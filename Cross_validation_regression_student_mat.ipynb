{
 "cells": [
  {
   "cell_type": "code",
   "execution_count": 1,
   "metadata": {},
   "outputs": [],
   "source": [
    "import pandas as pd\n",
    "import numpy as np\n",
    "import matplotlib.pyplot as plt\n",
    "import seaborn as sns"
   ]
  },
  {
   "cell_type": "code",
   "execution_count": 2,
   "metadata": {},
   "outputs": [],
   "source": [
    "df = pd.read_csv(\"D:\\\\Personal\\\\Practice\\\\student\\\\student-mat.csv\", sep=';')"
   ]
  },
  {
   "cell_type": "code",
   "execution_count": 3,
   "metadata": {
    "collapsed": true
   },
   "outputs": [],
   "source": [
    "pd.set_option('display.max_columns', None)"
   ]
  },
  {
   "cell_type": "markdown",
   "metadata": {},
   "source": [
    "### Every 'yes''no' is replaced by integer 1,0"
   ]
  },
  {
   "cell_type": "code",
   "execution_count": 4,
   "metadata": {},
   "outputs": [],
   "source": [
    "df = df.replace(to_replace = ['yes','no'],value = [1,0])"
   ]
  },
  {
   "cell_type": "code",
   "execution_count": 5,
   "metadata": {},
   "outputs": [],
   "source": [
    "X = df.iloc[:,:-1].values\n",
    "y = df.iloc[:,-1].values"
   ]
  },
  {
   "cell_type": "code",
   "execution_count": 6,
   "metadata": {},
   "outputs": [
    {
     "data": {
      "text/plain": [
       "array([['GP', 'F', 18, 'U', 'GT3', 'A', 4, 4, 'at_home', 'teacher',\n",
       "        'course', 'mother', 2, 2, 0, 1, 0, 0, 0, 1, 1, 0, 0, 4, 3, 4, 1,\n",
       "        1, 3, 6, 5, 6],\n",
       "       ['GP', 'F', 17, 'U', 'GT3', 'T', 1, 1, 'at_home', 'other',\n",
       "        'course', 'father', 1, 2, 0, 0, 1, 0, 0, 0, 1, 1, 0, 5, 3, 3, 1,\n",
       "        1, 3, 4, 5, 5],\n",
       "       ['GP', 'F', 15, 'U', 'LE3', 'T', 1, 1, 'at_home', 'other',\n",
       "        'other', 'mother', 1, 2, 3, 1, 0, 1, 0, 1, 1, 1, 0, 4, 3, 2, 2,\n",
       "        3, 3, 10, 7, 8],\n",
       "       ['GP', 'F', 15, 'U', 'GT3', 'T', 4, 2, 'health', 'services',\n",
       "        'home', 'mother', 1, 3, 0, 0, 1, 1, 1, 1, 1, 1, 1, 3, 2, 2, 1, 1,\n",
       "        5, 2, 15, 14],\n",
       "       ['GP', 'F', 16, 'U', 'GT3', 'T', 3, 3, 'other', 'other', 'home',\n",
       "        'father', 1, 2, 0, 0, 1, 1, 0, 1, 1, 0, 0, 4, 3, 2, 1, 2, 5, 4,\n",
       "        6, 10],\n",
       "       ['GP', 'M', 16, 'U', 'LE3', 'T', 4, 3, 'services', 'other',\n",
       "        'reputation', 'mother', 1, 2, 0, 0, 1, 1, 1, 1, 1, 1, 0, 5, 4, 2,\n",
       "        1, 2, 5, 10, 15, 15],\n",
       "       ['GP', 'M', 16, 'U', 'LE3', 'T', 2, 2, 'other', 'other', 'home',\n",
       "        'mother', 1, 2, 0, 0, 0, 0, 0, 1, 1, 1, 0, 4, 4, 4, 1, 1, 3, 0,\n",
       "        12, 12],\n",
       "       ['GP', 'F', 17, 'U', 'GT3', 'A', 4, 4, 'other', 'teacher', 'home',\n",
       "        'mother', 2, 2, 0, 1, 1, 0, 0, 1, 1, 0, 0, 4, 1, 4, 1, 1, 1, 6,\n",
       "        6, 5],\n",
       "       ['GP', 'M', 15, 'U', 'LE3', 'A', 3, 2, 'services', 'other',\n",
       "        'home', 'mother', 1, 2, 0, 0, 1, 1, 0, 1, 1, 1, 0, 4, 2, 2, 1, 1,\n",
       "        1, 0, 16, 18],\n",
       "       ['GP', 'M', 15, 'U', 'GT3', 'T', 3, 4, 'other', 'other', 'home',\n",
       "        'mother', 1, 2, 0, 0, 1, 1, 1, 1, 1, 1, 0, 5, 5, 1, 1, 1, 5, 0,\n",
       "        14, 15]], dtype=object)"
      ]
     },
     "execution_count": 6,
     "metadata": {},
     "output_type": "execute_result"
    }
   ],
   "source": [
    "X[:10,:]"
   ]
  },
  {
   "cell_type": "markdown",
   "metadata": {},
   "source": [
    "### OneHotEncoder is used to transform 0,1,3,4,5 as thhey had only twin variables like Male or Female and one of them is removed using 'drop' "
   ]
  },
  {
   "cell_type": "code",
   "execution_count": 7,
   "metadata": {},
   "outputs": [],
   "source": [
    "from sklearn.compose import ColumnTransformer\n",
    "from sklearn.preprocessing import OneHotEncoder\n",
    "ct = ColumnTransformer(transformers=[('encoder', OneHotEncoder(drop='if_binary'), [0])], remainder='passthrough')\n",
    "X = np.array(ct.fit_transform(X))"
   ]
  },
  {
   "cell_type": "code",
   "execution_count": 8,
   "metadata": {},
   "outputs": [],
   "source": [
    "from sklearn.compose import ColumnTransformer\n",
    "from sklearn.preprocessing import OneHotEncoder\n",
    "ct = ColumnTransformer(transformers=[('encoder', OneHotEncoder(drop='if_binary'), [1])], remainder='passthrough')\n",
    "X = np.array(ct.fit_transform(X))"
   ]
  },
  {
   "cell_type": "code",
   "execution_count": 9,
   "metadata": {},
   "outputs": [],
   "source": [
    "from sklearn.compose import ColumnTransformer\n",
    "from sklearn.preprocessing import OneHotEncoder\n",
    "ct = ColumnTransformer(transformers=[('encoder', OneHotEncoder(drop='if_binary'), [3])], remainder='passthrough')\n",
    "X = np.array(ct.fit_transform(X))"
   ]
  },
  {
   "cell_type": "code",
   "execution_count": 10,
   "metadata": {},
   "outputs": [],
   "source": [
    "from sklearn.compose import ColumnTransformer\n",
    "from sklearn.preprocessing import OneHotEncoder\n",
    "ct = ColumnTransformer(transformers=[('encoder', OneHotEncoder(drop='if_binary'), [4])], remainder='passthrough')\n",
    "X = np.array(ct.fit_transform(X))"
   ]
  },
  {
   "cell_type": "code",
   "execution_count": 11,
   "metadata": {},
   "outputs": [],
   "source": [
    "from sklearn.compose import ColumnTransformer\n",
    "from sklearn.preprocessing import OneHotEncoder\n",
    "ct = ColumnTransformer(transformers=[('encoder', OneHotEncoder(drop='if_binary'), [5])], remainder='passthrough')\n",
    "X = np.array(ct.fit_transform(X))"
   ]
  },
  {
   "cell_type": "code",
   "execution_count": 12,
   "metadata": {},
   "outputs": [
    {
     "name": "stdout",
     "output_type": "stream",
     "text": [
      "[[0.0 0.0 1.0 0.0 0.0 18 4 4 'at_home' 'teacher' 'course' 'mother' 2 2 0\n",
      "  1 0 0 0 1 1 0 0 4 3 4 1 1 3 6 5 6]\n",
      " [1.0 0.0 1.0 0.0 0.0 17 1 1 'at_home' 'other' 'course' 'father' 1 2 0 0\n",
      "  1 0 0 0 1 1 0 5 3 3 1 1 3 4 5 5]\n",
      " [1.0 1.0 1.0 0.0 0.0 15 1 1 'at_home' 'other' 'other' 'mother' 1 2 3 1 0\n",
      "  1 0 1 1 1 0 4 3 2 2 3 3 10 7 8]\n",
      " [1.0 0.0 1.0 0.0 0.0 15 4 2 'health' 'services' 'home' 'mother' 1 3 0 0\n",
      "  1 1 1 1 1 1 1 3 2 2 1 1 5 2 15 14]\n",
      " [1.0 0.0 1.0 0.0 0.0 16 3 3 'other' 'other' 'home' 'father' 1 2 0 0 1 1\n",
      "  0 1 1 0 0 4 3 2 1 2 5 4 6 10]\n",
      " [1.0 1.0 1.0 1.0 0.0 16 4 3 'services' 'other' 'reputation' 'mother' 1 2\n",
      "  0 0 1 1 1 1 1 1 0 5 4 2 1 2 5 10 15 15]\n",
      " [1.0 1.0 1.0 1.0 0.0 16 2 2 'other' 'other' 'home' 'mother' 1 2 0 0 0 0\n",
      "  0 1 1 1 0 4 4 4 1 1 3 0 12 12]\n",
      " [0.0 0.0 1.0 0.0 0.0 17 4 4 'other' 'teacher' 'home' 'mother' 2 2 0 1 1\n",
      "  0 0 1 1 0 0 4 1 4 1 1 1 6 6 5]\n",
      " [0.0 1.0 1.0 1.0 0.0 15 3 2 'services' 'other' 'home' 'mother' 1 2 0 0 1\n",
      "  1 0 1 1 1 0 4 2 2 1 1 1 0 16 18]\n",
      " [1.0 0.0 1.0 1.0 0.0 15 3 4 'other' 'other' 'home' 'mother' 1 2 0 0 1 1\n",
      "  1 1 1 1 0 5 5 1 1 1 5 0 14 15]]\n"
     ]
    }
   ],
   "source": [
    "print(X[:10,:])"
   ]
  },
  {
   "cell_type": "markdown",
   "metadata": {},
   "source": [
    "### LabelEncoder is used on 8,9,10,11 as more than one variable is present "
   ]
  },
  {
   "cell_type": "code",
   "execution_count": 13,
   "metadata": {},
   "outputs": [],
   "source": [
    "from sklearn.preprocessing import LabelEncoder\n",
    "le = LabelEncoder()\n",
    "X[:,8] = le.fit_transform(X[:,8])"
   ]
  },
  {
   "cell_type": "code",
   "execution_count": 14,
   "metadata": {},
   "outputs": [],
   "source": [
    "from sklearn.preprocessing import LabelEncoder\n",
    "le = LabelEncoder()\n",
    "X[:,9] = le.fit_transform(X[:,9])"
   ]
  },
  {
   "cell_type": "code",
   "execution_count": 15,
   "metadata": {},
   "outputs": [],
   "source": [
    "from sklearn.preprocessing import LabelEncoder\n",
    "le = LabelEncoder()\n",
    "X[:,10] = le.fit_transform(X[:,10])"
   ]
  },
  {
   "cell_type": "code",
   "execution_count": 16,
   "metadata": {},
   "outputs": [],
   "source": [
    "from sklearn.preprocessing import LabelEncoder\n",
    "le = LabelEncoder()\n",
    "X[:,11] = le.fit_transform(X[:,11])"
   ]
  },
  {
   "cell_type": "code",
   "execution_count": 17,
   "metadata": {},
   "outputs": [
    {
     "data": {
      "text/plain": [
       "array([[0.0, 0.0, 1.0, 0.0, 0.0, 18, 4, 4, 0, 4, 0, 1, 2, 2, 0, 1, 0, 0,\n",
       "        0, 1, 1, 0, 0, 4, 3, 4, 1, 1, 3, 6, 5, 6],\n",
       "       [1.0, 0.0, 1.0, 0.0, 0.0, 17, 1, 1, 0, 2, 0, 0, 1, 2, 0, 0, 1, 0,\n",
       "        0, 0, 1, 1, 0, 5, 3, 3, 1, 1, 3, 4, 5, 5],\n",
       "       [1.0, 1.0, 1.0, 0.0, 0.0, 15, 1, 1, 0, 2, 2, 1, 1, 2, 3, 1, 0, 1,\n",
       "        0, 1, 1, 1, 0, 4, 3, 2, 2, 3, 3, 10, 7, 8],\n",
       "       [1.0, 0.0, 1.0, 0.0, 0.0, 15, 4, 2, 1, 3, 1, 1, 1, 3, 0, 0, 1, 1,\n",
       "        1, 1, 1, 1, 1, 3, 2, 2, 1, 1, 5, 2, 15, 14],\n",
       "       [1.0, 0.0, 1.0, 0.0, 0.0, 16, 3, 3, 2, 2, 1, 0, 1, 2, 0, 0, 1, 1,\n",
       "        0, 1, 1, 0, 0, 4, 3, 2, 1, 2, 5, 4, 6, 10],\n",
       "       [1.0, 1.0, 1.0, 1.0, 0.0, 16, 4, 3, 3, 2, 3, 1, 1, 2, 0, 0, 1, 1,\n",
       "        1, 1, 1, 1, 0, 5, 4, 2, 1, 2, 5, 10, 15, 15],\n",
       "       [1.0, 1.0, 1.0, 1.0, 0.0, 16, 2, 2, 2, 2, 1, 1, 1, 2, 0, 0, 0, 0,\n",
       "        0, 1, 1, 1, 0, 4, 4, 4, 1, 1, 3, 0, 12, 12],\n",
       "       [0.0, 0.0, 1.0, 0.0, 0.0, 17, 4, 4, 2, 4, 1, 1, 2, 2, 0, 1, 1, 0,\n",
       "        0, 1, 1, 0, 0, 4, 1, 4, 1, 1, 1, 6, 6, 5],\n",
       "       [0.0, 1.0, 1.0, 1.0, 0.0, 15, 3, 2, 3, 2, 1, 1, 1, 2, 0, 0, 1, 1,\n",
       "        0, 1, 1, 1, 0, 4, 2, 2, 1, 1, 1, 0, 16, 18],\n",
       "       [1.0, 0.0, 1.0, 1.0, 0.0, 15, 3, 4, 2, 2, 1, 1, 1, 2, 0, 0, 1, 1,\n",
       "        1, 1, 1, 1, 0, 5, 5, 1, 1, 1, 5, 0, 14, 15]], dtype=object)"
      ]
     },
     "execution_count": 17,
     "metadata": {},
     "output_type": "execute_result"
    }
   ],
   "source": [
    "X[:10,:]"
   ]
  },
  {
   "cell_type": "markdown",
   "metadata": {},
   "source": [
    "Every data is changed to float32 or it doesnot runs on ANN"
   ]
  },
  {
   "cell_type": "code",
   "execution_count": 18,
   "metadata": {},
   "outputs": [],
   "source": [
    "X = np.asarray(X).astype('float32')"
   ]
  },
  {
   "cell_type": "code",
   "execution_count": 19,
   "metadata": {},
   "outputs": [
    {
     "data": {
      "text/plain": [
       "array([[ 0.,  0.,  1.,  0.,  0., 18.,  4.,  4.,  0.,  4.,  0.,  1.,  2.,\n",
       "         2.,  0.,  1.,  0.,  0.,  0.,  1.,  1.,  0.,  0.,  4.,  3.,  4.,\n",
       "         1.,  1.,  3.,  6.,  5.,  6.],\n",
       "       [ 1.,  0.,  1.,  0.,  0., 17.,  1.,  1.,  0.,  2.,  0.,  0.,  1.,\n",
       "         2.,  0.,  0.,  1.,  0.,  0.,  0.,  1.,  1.,  0.,  5.,  3.,  3.,\n",
       "         1.,  1.,  3.,  4.,  5.,  5.],\n",
       "       [ 1.,  1.,  1.,  0.,  0., 15.,  1.,  1.,  0.,  2.,  2.,  1.,  1.,\n",
       "         2.,  3.,  1.,  0.,  1.,  0.,  1.,  1.,  1.,  0.,  4.,  3.,  2.,\n",
       "         2.,  3.,  3., 10.,  7.,  8.],\n",
       "       [ 1.,  0.,  1.,  0.,  0., 15.,  4.,  2.,  1.,  3.,  1.,  1.,  1.,\n",
       "         3.,  0.,  0.,  1.,  1.,  1.,  1.,  1.,  1.,  1.,  3.,  2.,  2.,\n",
       "         1.,  1.,  5.,  2., 15., 14.],\n",
       "       [ 1.,  0.,  1.,  0.,  0., 16.,  3.,  3.,  2.,  2.,  1.,  0.,  1.,\n",
       "         2.,  0.,  0.,  1.,  1.,  0.,  1.,  1.,  0.,  0.,  4.,  3.,  2.,\n",
       "         1.,  2.,  5.,  4.,  6., 10.],\n",
       "       [ 1.,  1.,  1.,  1.,  0., 16.,  4.,  3.,  3.,  2.,  3.,  1.,  1.,\n",
       "         2.,  0.,  0.,  1.,  1.,  1.,  1.,  1.,  1.,  0.,  5.,  4.,  2.,\n",
       "         1.,  2.,  5., 10., 15., 15.],\n",
       "       [ 1.,  1.,  1.,  1.,  0., 16.,  2.,  2.,  2.,  2.,  1.,  1.,  1.,\n",
       "         2.,  0.,  0.,  0.,  0.,  0.,  1.,  1.,  1.,  0.,  4.,  4.,  4.,\n",
       "         1.,  1.,  3.,  0., 12., 12.],\n",
       "       [ 0.,  0.,  1.,  0.,  0., 17.,  4.,  4.,  2.,  4.,  1.,  1.,  2.,\n",
       "         2.,  0.,  1.,  1.,  0.,  0.,  1.,  1.,  0.,  0.,  4.,  1.,  4.,\n",
       "         1.,  1.,  1.,  6.,  6.,  5.],\n",
       "       [ 0.,  1.,  1.,  1.,  0., 15.,  3.,  2.,  3.,  2.,  1.,  1.,  1.,\n",
       "         2.,  0.,  0.,  1.,  1.,  0.,  1.,  1.,  1.,  0.,  4.,  2.,  2.,\n",
       "         1.,  1.,  1.,  0., 16., 18.],\n",
       "       [ 1.,  0.,  1.,  1.,  0., 15.,  3.,  4.,  2.,  2.,  1.,  1.,  1.,\n",
       "         2.,  0.,  0.,  1.,  1.,  1.,  1.,  1.,  1.,  0.,  5.,  5.,  1.,\n",
       "         1.,  1.,  5.,  0., 14., 15.]], dtype=float32)"
      ]
     },
     "execution_count": 19,
     "metadata": {},
     "output_type": "execute_result"
    }
   ],
   "source": [
    "X[:10,:]"
   ]
  },
  {
   "cell_type": "code",
   "execution_count": 23,
   "metadata": {},
   "outputs": [],
   "source": [
    "from sklearn.model_selection import train_test_split\n",
    "X_train, X_test, y_train, y_test = train_test_split(X, y, test_size = 1/3, random_state = 0)"
   ]
  },
  {
   "cell_type": "markdown",
   "metadata": {},
   "source": [
    "### Different model for regression is used"
   ]
  },
  {
   "cell_type": "code",
   "execution_count": 24,
   "metadata": {},
   "outputs": [
    {
     "data": {
      "text/plain": [
       "0.7919866131068887"
      ]
     },
     "execution_count": 24,
     "metadata": {},
     "output_type": "execute_result"
    }
   ],
   "source": [
    "# k-fold CV (using all the 13 variables)\n",
    "from sklearn.linear_model import LinearRegression\n",
    "from sklearn.model_selection import cross_val_score\n",
    "lm = LinearRegression()\n",
    "scores = cross_val_score(lm, X_train, y_train, scoring='r2', cv=5)\n",
    "scores.mean()      "
   ]
  },
  {
   "cell_type": "code",
   "execution_count": 25,
   "metadata": {},
   "outputs": [
    {
     "data": {
      "text/plain": [
       "0.7632476825234552"
      ]
     },
     "execution_count": 25,
     "metadata": {},
     "output_type": "execute_result"
    }
   ],
   "source": [
    "from sklearn.svm import SVR\n",
    "regressor = SVR(kernel = 'rbf')\n",
    "scores = cross_val_score(regressor, X_train, y_train, scoring='r2', cv=5)\n",
    "scores.mean()      "
   ]
  },
  {
   "cell_type": "code",
   "execution_count": 26,
   "metadata": {},
   "outputs": [
    {
     "data": {
      "text/plain": [
       "0.7861035525673985"
      ]
     },
     "execution_count": 26,
     "metadata": {},
     "output_type": "execute_result"
    }
   ],
   "source": [
    "from sklearn.tree import DecisionTreeRegressor\n",
    "D_regressor = DecisionTreeRegressor(random_state = 0)\n",
    "scores = cross_val_score(D_regressor, X_train, y_train, scoring='r2', cv=5)\n",
    "scores.mean()   "
   ]
  },
  {
   "cell_type": "code",
   "execution_count": 40,
   "metadata": {},
   "outputs": [
    {
     "data": {
      "text/plain": [
       "0.8460037376920821"
      ]
     },
     "execution_count": 40,
     "metadata": {},
     "output_type": "execute_result"
    }
   ],
   "source": [
    "from sklearn.ensemble import RandomForestRegressor\n",
    "R_regressor = RandomForestRegressor(n_estimators = 10, random_state = 0)\n",
    "scores = cross_val_score(R_regressor, X_train, y_train, scoring='r2', cv=5)\n",
    "scores.mean()   "
   ]
  },
  {
   "cell_type": "markdown",
   "metadata": {},
   "source": [
    "### Predicted and r2 is used to find the accuracy 1 is the highest accuracy, if negative then very bad model\n",
    "### W"
   ]
  },
  {
   "cell_type": "code",
   "execution_count": 34,
   "metadata": {},
   "outputs": [],
   "source": [
    "R_regressor.fit(X_train, y_train)\n",
    "y_pred = R_regressor.predict(X_test)"
   ]
  },
  {
   "cell_type": "code",
   "execution_count": 35,
   "metadata": {},
   "outputs": [
    {
     "data": {
      "text/plain": [
       "0.8606929531901867"
      ]
     },
     "execution_count": 35,
     "metadata": {},
     "output_type": "execute_result"
    }
   ],
   "source": [
    "from sklearn.metrics import r2_score\n",
    "r2_score(y_test, y_pred)"
   ]
  },
  {
   "cell_type": "code",
   "execution_count": null,
   "metadata": {},
   "outputs": [],
   "source": []
  }
 ],
 "metadata": {
  "kernelspec": {
   "display_name": "Python 3",
   "language": "python",
   "name": "python3"
  },
  "language_info": {
   "codemirror_mode": {
    "name": "ipython",
    "version": 3
   },
   "file_extension": ".py",
   "mimetype": "text/x-python",
   "name": "python",
   "nbconvert_exporter": "python",
   "pygments_lexer": "ipython3",
   "version": "3.8.3"
  }
 },
 "nbformat": 4,
 "nbformat_minor": 4
}
